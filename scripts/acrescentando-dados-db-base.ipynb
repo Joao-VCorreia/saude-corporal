{
 "cells": [
  {
   "cell_type": "code",
   "execution_count": 162,
   "metadata": {},
   "outputs": [],
   "source": [
    "import pandas as pd\n",
    "import numpy as np\n",
    "import sqlite3"
   ]
  },
  {
   "cell_type": "code",
   "execution_count": 163,
   "metadata": {},
   "outputs": [],
   "source": [
    "df = pd.read_csv('../database/alunos-ativos-da-pos-graduacao.csv', sep=';', usecols=['nome_aluno']).sample(frac=1).reset_index(drop=True)\n",
    "df = df.rename(columns={'nome_aluno' : 'nome'})\n",
    "\n",
    "pd.options.display.max_rows = 6"
   ]
  },
  {
   "cell_type": "code",
   "execution_count": 164,
   "metadata": {},
   "outputs": [],
   "source": [
    "#Atribuindo sexo considerando nomes com maior frequencia\n",
    "df_nomes_frequencia = df['nome'].map(lambda y: y.split()[0]).value_counts()\n",
    "\n",
    "nomes_masculinos = ['Lucas', 'João', 'Gabriel', 'Matheus', 'Rafael', 'Guilherme', 'Gustavo', 'Bruno', 'Luiz', 'Paulo', 'Pedro', 'André', 'José', 'Rodrigo', 'Thiago', 'Felipe', 'Daniel', 'Marcelo', 'Eduardo']\n",
    "nomes_femininos = ['Ana', 'Maria', 'Mariana', 'Bruna', 'Gabriela', 'Camila', 'Fernanda', 'Amanda', 'Aline', 'Leticia', 'Larissa', 'Juliana', 'Jéssica', 'Beatriz', 'Marina']\n",
    "\n",
    "df['sexo'] = None\n",
    "\n",
    "df.loc[df['nome'].str.split().str[0].isin(nomes_masculinos), 'sexo'] = 'M'\n",
    "df.loc[df['nome'].str.split().str[0].isin(nomes_femininos), 'sexo'] = 'F'\n",
    "\n",
    "lista_sexo_aleatorio = np.random.choice(['M', 'F'], size=df['sexo'].isnull().sum())\n",
    "df.loc[df['sexo'].isnull(), 'sexo'] = lista_sexo_aleatorio"
   ]
  },
  {
   "cell_type": "code",
   "execution_count": 165,
   "metadata": {},
   "outputs": [],
   "source": [
    "#Define data de nascimento e idade\n",
    "df['nascimento'] = None\n",
    "df.loc[df['nascimento'].isnull(), 'nascimento'] = np.random.choice(pd.date_range(start='1910-01-01', end='2019-12-31').strftime('%Y-%m-%d'), size=len(df))\n",
    "\n",
    "df['idade'] = (pd.Timestamp.now() - pd.to_datetime(df['nascimento'])).dt.days // 365"
   ]
  },
  {
   "cell_type": "code",
   "execution_count": 166,
   "metadata": {},
   "outputs": [],
   "source": [
    "#define altura com influencia da idade e sexo\n",
    "df['altura'] = np.random.randint(120, 210, size=len(df))\n",
    "df.loc[df['idade'] <= 18, 'altura'] -= (25 * (1 - (df['idade'] / 18) ** 2 )).round() #quanto menor a idade, maior o decrescimo\n",
    "df.loc[df['idade'] >= 60, 'altura'] -= (30 * ((df['idade'] - 60) / (df['idade'].max() - 60)) ** 2).round() #quanto maior a idade, maior o decrescimo\n",
    "\n",
    "df.loc[df['sexo'] == 'F', 'altura'] -= np.random.randint(1, 8)\n",
    "df.loc[df['sexo'] == 'M', 'altura'] += np.random.randint(1, 8)"
   ]
  },
  {
   "cell_type": "code",
   "execution_count": 167,
   "metadata": {},
   "outputs": [],
   "source": [
    "#define o peso com influencia da idade e sexo\n",
    "df['peso'] = np.round(np.random.uniform(25.0, 150, size=len(df)), decimals=2)\n",
    "df.loc[df['idade'] <= 18, 'peso'] -= (8 * (1 - (df['idade'] / 18) ** 2 )).round(decimals=2)\n",
    "df.loc[df['idade'] >= 60, 'peso'] -= (15 * ((df['idade'] - 60) / (df['idade'].max() - 60)) ** 2).round(decimals=2)\n",
    "\n",
    "df.loc[df['sexo'] == 'F', 'peso'] -= (df['peso'] * 0.05).round(decimals=2)\n",
    "df.loc[df['sexo'] == 'M', 'peso'] += (df['peso'] * 0.05).round(decimals=2)"
   ]
  },
  {
   "cell_type": "code",
   "execution_count": 168,
   "metadata": {},
   "outputs": [],
   "source": [
    "# define pressao arterial\n",
    "df['pressao-arterial-sistolica'] = 10 * np.random.randint(5, 23, size=len(df))\n",
    "df['pressao-arterial-diastolica'] = 10 * np.random.randint(3, (df['pressao-arterial-sistolica']/10), size=len(df))\n",
    "\n",
    "df.loc[df['idade'] <= 18, ['pressao-arterial-sistolica', 'pressao-arterial-diastolica']] -= (10 * np.random.randint(1, 4))"
   ]
  },
  {
   "cell_type": "code",
   "execution_count": 169,
   "metadata": {},
   "outputs": [],
   "source": [
    "# define glicemia com aumento na terceira idade\n",
    "df['glicemia'] = 5 * np.random.randint(8, 44, size=len(df))\n",
    "df.loc[df['idade'] >= 60, 'glicemia'] += 5 * np.random.randint(1, 4)"
   ]
  },
  {
   "cell_type": "code",
   "execution_count": 170,
   "metadata": {},
   "outputs": [
    {
     "data": {
      "text/html": [
       "<div>\n",
       "<style scoped>\n",
       "    .dataframe tbody tr th:only-of-type {\n",
       "        vertical-align: middle;\n",
       "    }\n",
       "\n",
       "    .dataframe tbody tr th {\n",
       "        vertical-align: top;\n",
       "    }\n",
       "\n",
       "    .dataframe thead th {\n",
       "        text-align: right;\n",
       "    }\n",
       "</style>\n",
       "<table border=\"1\" class=\"dataframe\">\n",
       "  <thead>\n",
       "    <tr style=\"text-align: right;\">\n",
       "      <th></th>\n",
       "      <th>nome</th>\n",
       "      <th>sexo</th>\n",
       "      <th>nascimento</th>\n",
       "      <th>idade</th>\n",
       "      <th>altura</th>\n",
       "      <th>peso</th>\n",
       "      <th>pressao-arterial-sistolica</th>\n",
       "      <th>pressao-arterial-diastolica</th>\n",
       "      <th>glicemia</th>\n",
       "      <th>frequencia-cardiaca</th>\n",
       "    </tr>\n",
       "  </thead>\n",
       "  <tbody>\n",
       "    <tr>\n",
       "      <th>0</th>\n",
       "      <td>Matheus Ramos de Carvalho</td>\n",
       "      <td>M</td>\n",
       "      <td>1994-05-20</td>\n",
       "      <td>30</td>\n",
       "      <td>138</td>\n",
       "      <td>108.77</td>\n",
       "      <td>70</td>\n",
       "      <td>40</td>\n",
       "      <td>210</td>\n",
       "      <td>106</td>\n",
       "    </tr>\n",
       "    <tr>\n",
       "      <th>1</th>\n",
       "      <td>Letícia Gabriele Ribeiro Rocumba</td>\n",
       "      <td>M</td>\n",
       "      <td>1987-04-12</td>\n",
       "      <td>37</td>\n",
       "      <td>166</td>\n",
       "      <td>119.48</td>\n",
       "      <td>220</td>\n",
       "      <td>160</td>\n",
       "      <td>160</td>\n",
       "      <td>63</td>\n",
       "    </tr>\n",
       "    <tr>\n",
       "      <th>2</th>\n",
       "      <td>Vinícius José de Oliveira Garcia</td>\n",
       "      <td>M</td>\n",
       "      <td>1976-01-20</td>\n",
       "      <td>48</td>\n",
       "      <td>207</td>\n",
       "      <td>44.18</td>\n",
       "      <td>70</td>\n",
       "      <td>50</td>\n",
       "      <td>140</td>\n",
       "      <td>107</td>\n",
       "    </tr>\n",
       "    <tr>\n",
       "      <th>...</th>\n",
       "      <td>...</td>\n",
       "      <td>...</td>\n",
       "      <td>...</td>\n",
       "      <td>...</td>\n",
       "      <td>...</td>\n",
       "      <td>...</td>\n",
       "      <td>...</td>\n",
       "      <td>...</td>\n",
       "      <td>...</td>\n",
       "      <td>...</td>\n",
       "    </tr>\n",
       "    <tr>\n",
       "      <th>3882</th>\n",
       "      <td>Felipe Adriano Alves de Oliveira</td>\n",
       "      <td>M</td>\n",
       "      <td>2004-08-16</td>\n",
       "      <td>19</td>\n",
       "      <td>138</td>\n",
       "      <td>152.25</td>\n",
       "      <td>120</td>\n",
       "      <td>80</td>\n",
       "      <td>65</td>\n",
       "      <td>67</td>\n",
       "    </tr>\n",
       "    <tr>\n",
       "      <th>3883</th>\n",
       "      <td>Ana Eliza de Jesus</td>\n",
       "      <td>F</td>\n",
       "      <td>1966-02-27</td>\n",
       "      <td>58</td>\n",
       "      <td>169</td>\n",
       "      <td>81.50</td>\n",
       "      <td>120</td>\n",
       "      <td>50</td>\n",
       "      <td>190</td>\n",
       "      <td>32</td>\n",
       "    </tr>\n",
       "    <tr>\n",
       "      <th>3884</th>\n",
       "      <td>Argos Yoneda Coletti</td>\n",
       "      <td>F</td>\n",
       "      <td>1965-10-20</td>\n",
       "      <td>58</td>\n",
       "      <td>116</td>\n",
       "      <td>140.97</td>\n",
       "      <td>200</td>\n",
       "      <td>140</td>\n",
       "      <td>150</td>\n",
       "      <td>131</td>\n",
       "    </tr>\n",
       "  </tbody>\n",
       "</table>\n",
       "<p>3885 rows × 10 columns</p>\n",
       "</div>"
      ],
      "text/plain": [
       "                                  nome sexo  nascimento  idade  altura  \\\n",
       "0            Matheus Ramos de Carvalho    M  1994-05-20     30     138   \n",
       "1     Letícia Gabriele Ribeiro Rocumba    M  1987-04-12     37     166   \n",
       "2     Vinícius José de Oliveira Garcia    M  1976-01-20     48     207   \n",
       "...                                ...  ...         ...    ...     ...   \n",
       "3882  Felipe Adriano Alves de Oliveira    M  2004-08-16     19     138   \n",
       "3883                Ana Eliza de Jesus    F  1966-02-27     58     169   \n",
       "3884              Argos Yoneda Coletti    F  1965-10-20     58     116   \n",
       "\n",
       "        peso  pressao-arterial-sistolica  pressao-arterial-diastolica  \\\n",
       "0     108.77                          70                           40   \n",
       "1     119.48                         220                          160   \n",
       "2      44.18                          70                           50   \n",
       "...      ...                         ...                          ...   \n",
       "3882  152.25                         120                           80   \n",
       "3883   81.50                         120                           50   \n",
       "3884  140.97                         200                          140   \n",
       "\n",
       "      glicemia  frequencia-cardiaca  \n",
       "0          210                  106  \n",
       "1          160                   63  \n",
       "2          140                  107  \n",
       "...        ...                  ...  \n",
       "3882        65                   67  \n",
       "3883       190                   32  \n",
       "3884       150                  131  \n",
       "\n",
       "[3885 rows x 10 columns]"
      ]
     },
     "execution_count": 170,
     "metadata": {},
     "output_type": "execute_result"
    }
   ],
   "source": [
    "# Gera um valor de frequencia cardiaca com influencia da idade\n",
    "df['frequencia-cardiaca'] = np.random.randint(30, 210, size=len(df))\n",
    "\n",
    "df.loc[df['idade'] <= 18, 'frequencia-cardiaca'] += (np.random.randint(20, 40) * (1 - (df['idade'] / 18) ** 2 )).round()\n",
    "df.loc[df['idade'] >= 60, 'frequencia-cardiaca'] += (np.random.randint(10, 30) * ((df['idade'] - 60) / (df['idade'].max() - 60)) ** 2).round()"
   ]
  },
  {
   "cell_type": "code",
   "execution_count": 171,
   "metadata": {},
   "outputs": [
    {
     "data": {
      "text/plain": [
       "3885"
      ]
     },
     "execution_count": 171,
     "metadata": {},
     "output_type": "execute_result"
    }
   ],
   "source": [
    "conexao = sqlite3.connect('../pagina/db.sqlite3')\n",
    "\n",
    "df.to_sql('Pacientes', conexao, if_exists='replace', index=False)"
   ]
  },
  {
   "cell_type": "code",
   "execution_count": 172,
   "metadata": {},
   "outputs": [
    {
     "data": {
      "text/plain": [
       "\"\\ndf['circunferencia-cintura']\\ndf['diabetes']\\ndf['doenca-cronica']\\ndf['tabagismo']\\ndf['colesterol']\\ndf['funcao-renal']\\ndf['alergia']\\ndf['duracao-sono']\""
      ]
     },
     "execution_count": 172,
     "metadata": {},
     "output_type": "execute_result"
    }
   ],
   "source": [
    "\"\"\"\n",
    "df['circunferencia-cintura']\n",
    "df['diabetes']\n",
    "df['doenca-cronica']\n",
    "df['tabagismo']\n",
    "df['colesterol']\n",
    "df['funcao-renal']\n",
    "df['alergia']\n",
    "df['duracao-sono']\"\"\""
   ]
  }
 ],
 "metadata": {
  "kernelspec": {
   "display_name": "myword",
   "language": "python",
   "name": "python3"
  },
  "language_info": {
   "codemirror_mode": {
    "name": "ipython",
    "version": 3
   },
   "file_extension": ".py",
   "mimetype": "text/x-python",
   "name": "python",
   "nbconvert_exporter": "python",
   "pygments_lexer": "ipython3",
   "version": "3.12.3"
  }
 },
 "nbformat": 4,
 "nbformat_minor": 2
}
